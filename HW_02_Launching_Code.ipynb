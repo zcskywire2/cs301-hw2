{
 "cells": [
  {
   "cell_type": "code",
   "execution_count": null,
   "metadata": {},
   "outputs": [],
   "source": [
    "# Author: Zachary (Alan) Ciemniecki\n",
    "# Date: 20200206\n",
    "# CS301-006, Professor Watson\n",
    "# HW02 Solution\n",
    "# Brief description of the assignment / project / work that is done\n",
    "# link to the git repo (ex: https://github.com/cww5/web_scraper)\n",
    "# link-to-the-relevant-git-commit (ex: https://github.com/cww5/web_scraper/tree/60e907c00ecbe21bc6a543621c9683ebf7f9693a)\n",
    "# name-of-the-branch (ex: master)"
   ]
  },
  {
   "cell_type": "markdown",
   "metadata": {},
   "source": [
    "## HW 02 - Base Code to Start"
   ]
  },
  {
   "cell_type": "markdown",
   "metadata": {},
   "source": [
    "#### Use these two samples to test your functions"
   ]
  },
  {
   "cell_type": "code",
   "execution_count": 1,
   "metadata": {},
   "outputs": [],
   "source": [
    "grades = [0, 0, 14, 35, 63, 66, 75, 77, 78, 80, 81, 81, 87, 89, 90, 91, 100]"
   ]
  },
  {
   "cell_type": "code",
   "execution_count": 2,
   "metadata": {},
   "outputs": [],
   "source": [
    "times = [5, 10, 10, 15, 15, 15, 15, 20, 20, 20, 25, 30, 30, 40, 40, 45, 60, 60, 65, 89]"
   ]
  },
  {
   "cell_type": "markdown",
   "metadata": {},
   "source": [
    "### Please answer Problem 2 below:"
   ]
  },
  {
   "cell_type": "code",
   "execution_count": 33,
   "metadata": {},
   "outputs": [
    {
     "name": "stdout",
     "output_type": "stream",
     "text": [
      "The following are outliers: [0, 0, 14]\n",
      "{'Min:': 0, 'q1': 63.0, 'q2': 78.0, 'q3': 87.0, 'Max': 100}\n",
      "\n",
      "The following are outliers: [89]\n",
      "{'Min:': 5, 'q1': 15.0, 'q2': 22.5, 'q3': 41.25, 'Max': 89}\n"
     ]
    }
   ],
   "source": [
    "import numpy as np\n",
    "def q_summary_V1(numbers):\n",
    "    q2 = np.quantile(numbers, .50) \n",
    "    q1 = np.quantile(numbers, .25) \n",
    "    q3 = np.quantile(numbers, .75) \n",
    "    iqr = q3-q1\n",
    "    lowout = q1-(1.5*iqr)\n",
    "    hiout = q3+(1.5*iqr)\n",
    "    outliers = []\n",
    "    for i in range(len(numbers)):\n",
    "        if(numbers[i] < lowout):\n",
    "            outliers.append(numbers[i])\n",
    "    for i in range(len(numbers)):\n",
    "        if(numbers[i] > hiout):\n",
    "            outliers.append(numbers[i])\n",
    "    if(len(outliers) > 0):\n",
    "        print(\"The following are outliers: \",end = '')\n",
    "        print(outliers)\n",
    "    for x in outliers:\n",
    "        numbers.remove(x)\n",
    "    ret = {\n",
    "        \"Min:\": numbers[0],\n",
    "        \"q1\": q1,\n",
    "        'q2': q2,\n",
    "        'q3': q3,\n",
    "        'Max':numbers[-1]\n",
    "    }\n",
    "    return ret\n",
    "\n",
    "grades = [0, 0, 14, 35, 63, 66, 75, 77, 78, 80, 81, 81, 87, 89, 90, 91, 100]\n",
    "print(q_summary_V1(grades))\n",
    "print()\n",
    "times = [5, 10, 10, 15, 15, 15, 15, 20, 20, 20, 25, 30, 30, 40, 40, 45, 60, 60, 65, 89]\n",
    "print(q_summary_V1(times))"
   ]
  },
  {
   "cell_type": "markdown",
   "metadata": {},
   "source": [
    "### Please answer Problem 3 below:"
   ]
  },
  {
   "cell_type": "code",
   "execution_count": 30,
   "metadata": {},
   "outputs": [
    {
     "name": "stdout",
     "output_type": "stream",
     "text": [
      "{'Min:': 0, 'q1': 49.0, 'q2': 78, 'q3': 88.0, 'Max': 100}\n",
      "\n",
      "The following are outliers: [89]\n",
      "{'Min:': 5, 'q1': 15.0, 'q2': 22.5, 'q3': 42.5, 'Max': 65}\n"
     ]
    }
   ],
   "source": [
    "import numpy as np\n",
    "def q_summary_V2(numbers):\n",
    "    q3i = .75*(len(numbers)+1)-1\n",
    "    if(q3i%1 !=0):\n",
    "        q3 = (numbers[int(np.floor(q3i))] + numbers[int(np.ceil(q3i))])/2\n",
    "    else:\n",
    "        q3 = (numbers[int(q3i)])\n",
    "    q1i = .25*(len(numbers)+1)-1\n",
    "    if(q1i%1 !=0):\n",
    "        q1 = (numbers[int(np.floor(q1i))] + numbers[int(np.ceil(q1i))])/2\n",
    "    else:\n",
    "        q1 = (numbers[int(q1i)])\n",
    "    q2i = .5*(len(numbers)+1)-1\n",
    "    if(q2i%1 !=0):\n",
    "        q2 = (numbers[int(np.floor(q2i))] + numbers[int(np.ceil(q2i))])/2\n",
    "    else:\n",
    "        q2 = (numbers[int(q2i)])\n",
    "    iqr = q3-q1\n",
    "    lowout = q1-(1.5*iqr)\n",
    "    hiout = q3+(1.5*iqr)\n",
    "    outliers = []\n",
    "    for i in range(len(numbers)):\n",
    "        if(numbers[i] < lowout):\n",
    "            outliers.append(numbers.pop(i))\n",
    "        else:\n",
    "            break\n",
    "    for i in range(len(numbers)):\n",
    "        if(numbers[i] > hiout):\n",
    "            outliers.append(numbers.pop(i))\n",
    "    if(len(outliers) > 0):\n",
    "        print(\"The following are outliers: \",end = '')\n",
    "        print(outliers)\n",
    "    ret = {\n",
    "        \"Min:\": numbers[0],\n",
    "        \"q1\": q1,\n",
    "        'q2': q2,\n",
    "        'q3': q3,\n",
    "        'Max':numbers[-1]\n",
    "    }\n",
    "    return ret\n",
    "\n",
    "grades = [0, 0, 14, 35, 63, 66, 75, 77, 78, 80, 81, 81, 87, 89, 90, 91, 100]\n",
    "print(q_summary_V(grades))\n",
    "print()\n",
    "times = [5, 10, 10, 15, 15, 15, 15, 20, 20, 20, 25, 30, 30, 40, 40, 45, 60, 60, 65, 89]\n",
    "print(q_summary_V1(times))"
   ]
  },
  {
   "cell_type": "code",
   "execution_count": null,
   "metadata": {},
   "outputs": [],
   "source": []
  },
  {
   "cell_type": "code",
   "execution_count": null,
   "metadata": {},
   "outputs": [],
   "source": []
  },
  {
   "cell_type": "code",
   "execution_count": null,
   "metadata": {},
   "outputs": [],
   "source": []
  },
  {
   "cell_type": "code",
   "execution_count": null,
   "metadata": {},
   "outputs": [],
   "source": []
  }
 ],
 "metadata": {
  "kernelspec": {
   "display_name": "Python 3",
   "language": "python",
   "name": "python3"
  },
  "language_info": {
   "codemirror_mode": {
    "name": "ipython",
    "version": 3
   },
   "file_extension": ".py",
   "mimetype": "text/x-python",
   "name": "python",
   "nbconvert_exporter": "python",
   "pygments_lexer": "ipython3",
   "version": "3.7.4"
  }
 },
 "nbformat": 4,
 "nbformat_minor": 2
}
